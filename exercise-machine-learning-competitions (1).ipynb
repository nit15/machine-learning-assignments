{
 "cells": [
  {
   "cell_type": "markdown",
   "id": "7d65fb77",
   "metadata": {
    "papermill": {
     "duration": 0.011195,
     "end_time": "2021-11-16T12:33:16.262636",
     "exception": false,
     "start_time": "2021-11-16T12:33:16.251441",
     "status": "completed"
    },
    "tags": []
   },
   "source": [
    "**This notebook is an exercise in the [Introduction to Machine Learning](https://www.kaggle.com/learn/intro-to-machine-learning) course.  You can reference the tutorial at [this link](https://www.kaggle.com/alexisbcook/machine-learning-competitions).**\n",
    "\n",
    "---\n"
   ]
  },
  {
   "cell_type": "markdown",
   "id": "f6f4f4fc",
   "metadata": {
    "papermill": {
     "duration": 0.010912,
     "end_time": "2021-11-16T12:33:16.283943",
     "exception": false,
     "start_time": "2021-11-16T12:33:16.273031",
     "status": "completed"
    },
    "tags": []
   },
   "source": [
    "# Introduction\n",
    "\n",
    "In this exercise, you will create and submit predictions for a Kaggle competition. You can then improve your model (e.g. by adding features) to apply what you've learned and move up the leaderboard.\n",
    "\n",
    "Begin by running the code cell below to set up code checking and the filepaths for the dataset."
   ]
  },
  {
   "cell_type": "code",
   "execution_count": 1,
   "id": "ccc28696",
   "metadata": {
    "execution": {
     "iopub.execute_input": "2021-11-16T12:33:16.315406Z",
     "iopub.status.busy": "2021-11-16T12:33:16.314691Z",
     "iopub.status.idle": "2021-11-16T12:33:16.351485Z",
     "shell.execute_reply": "2021-11-16T12:33:16.350727Z",
     "shell.execute_reply.started": "2021-11-16T12:29:38.717417Z"
    },
    "papermill": {
     "duration": 0.057853,
     "end_time": "2021-11-16T12:33:16.351665",
     "exception": false,
     "start_time": "2021-11-16T12:33:16.293812",
     "status": "completed"
    },
    "tags": []
   },
   "outputs": [],
   "source": [
    "# Set up code checking\n",
    "from learntools.core import binder\n",
    "binder.bind(globals())\n",
    "from learntools.machine_learning.ex7 import *\n",
    "\n",
    "# Set up filepaths\n",
    "import os\n",
    "if not os.path.exists(\"../input/train.csv\"):\n",
    "    os.symlink(\"../input/home-data-for-ml-course/train.csv\", \"../input/train.csv\")  \n",
    "    os.symlink(\"../input/home-data-for-ml-course/test.csv\", \"../input/test.csv\") "
   ]
  },
  {
   "cell_type": "markdown",
   "id": "e70c0424",
   "metadata": {
    "papermill": {
     "duration": 0.009653,
     "end_time": "2021-11-16T12:33:16.373724",
     "exception": false,
     "start_time": "2021-11-16T12:33:16.364071",
     "status": "completed"
    },
    "tags": []
   },
   "source": [
    "Here's some of the code you've written so far. Start by running it again."
   ]
  },
  {
   "cell_type": "code",
   "execution_count": 2,
   "id": "db993e54",
   "metadata": {
    "execution": {
     "iopub.execute_input": "2021-11-16T12:33:16.402230Z",
     "iopub.status.busy": "2021-11-16T12:33:16.401524Z",
     "iopub.status.idle": "2021-11-16T12:33:18.161634Z",
     "shell.execute_reply": "2021-11-16T12:33:18.160858Z",
     "shell.execute_reply.started": "2021-11-16T12:32:31.650579Z"
    },
    "papermill": {
     "duration": 1.778381,
     "end_time": "2021-11-16T12:33:18.161860",
     "exception": false,
     "start_time": "2021-11-16T12:33:16.383479",
     "status": "completed"
    },
    "tags": []
   },
   "outputs": [
    {
     "name": "stdout",
     "output_type": "stream",
     "text": [
      "Validation MAE for Random Forest Model: 21,278\n"
     ]
    }
   ],
   "source": [
    "# Import helpful libraries\n",
    "import pandas as pd\n",
    "import numpy as np\n",
    "from sklearn.ensemble import RandomForestRegressor\n",
    "from sklearn.metrics import mean_absolute_error\n",
    "from sklearn.model_selection import train_test_split\n",
    "\n",
    "# Load the data, and separate the target\n",
    "iowa_file_path = '../input/train.csv'\n",
    "home_data = pd.read_csv(iowa_file_path)\n",
    "#hd1=home_data.dropna(axis=0)\n",
    "home_data[\"LotFrontage\"]=home_data[\"LotFrontage\"].replace(np.NaN,home_data[\"LotFrontage\"].mean())\n",
    "home_data[\"HouseStyle\"] = [1 if x==\"1Story\" else 2 for x in home_data[\"HouseStyle\"]]\n",
    "y = home_data.SalePrice\n",
    "\n",
    "# Create X (After completing the exercise, you can return to modify this line!)\n",
    "features = ['LotArea', 'YearBuilt', '1stFlrSF', '2ndFlrSF', 'FullBath', 'BedroomAbvGr', 'TotRmsAbvGrd','TotalBsmtSF','GarageArea','HouseStyle']\n",
    "\n",
    "# Select columns corresponding to features, and preview the data\n",
    "X = home_data[features]\n",
    "X.head()\n",
    "\n",
    "# Split into validation and training data\n",
    "train_X, val_X, train_y, val_y = train_test_split(X, y, random_state=1)\n",
    "\n",
    "# Define a random forest model\n",
    "rf_model = RandomForestRegressor(random_state=1)\n",
    "rf_model.fit(train_X, train_y)\n",
    "rf_val_predictions = rf_model.predict(val_X)\n",
    "rf_val_mae = mean_absolute_error(rf_val_predictions, val_y)\n",
    "\n",
    "print(\"Validation MAE for Random Forest Model: {:,.0f}\".format(rf_val_mae))"
   ]
  },
  {
   "cell_type": "markdown",
   "id": "98a9811f",
   "metadata": {
    "papermill": {
     "duration": 0.010413,
     "end_time": "2021-11-16T12:33:18.182866",
     "exception": false,
     "start_time": "2021-11-16T12:33:18.172453",
     "status": "completed"
    },
    "tags": []
   },
   "source": [
    "# Train a model for the competition\n",
    "\n",
    "The code cell above trains a Random Forest model on **`train_X`** and **`train_y`**.  \n",
    "\n",
    "Use the code cell below to build a Random Forest model and train it on all of **`X`** and **`y`**."
   ]
  },
  {
   "cell_type": "code",
   "execution_count": 3,
   "id": "973a33fa",
   "metadata": {
    "execution": {
     "iopub.execute_input": "2021-11-16T12:33:18.206401Z",
     "iopub.status.busy": "2021-11-16T12:33:18.205516Z",
     "iopub.status.idle": "2021-11-16T12:33:18.934652Z",
     "shell.execute_reply": "2021-11-16T12:33:18.935143Z",
     "shell.execute_reply.started": "2021-11-16T12:32:39.258374Z"
    },
    "papermill": {
     "duration": 0.742588,
     "end_time": "2021-11-16T12:33:18.935330",
     "exception": false,
     "start_time": "2021-11-16T12:33:18.192742",
     "status": "completed"
    },
    "tags": []
   },
   "outputs": [
    {
     "data": {
      "text/plain": [
       "RandomForestRegressor()"
      ]
     },
     "execution_count": 3,
     "metadata": {},
     "output_type": "execute_result"
    }
   ],
   "source": [
    "# To improve accuracy, create a new Random Forest model which you will train on all training data\n",
    "rf_model_on_full_data = RandomForestRegressor()\n",
    "\n",
    "# fit rf_model_on_full_data on all data from the training data\n",
    "rf_model_on_full_data.fit(X,y)"
   ]
  },
  {
   "cell_type": "markdown",
   "id": "b9e35fef",
   "metadata": {
    "papermill": {
     "duration": 0.009893,
     "end_time": "2021-11-16T12:33:18.955859",
     "exception": false,
     "start_time": "2021-11-16T12:33:18.945966",
     "status": "completed"
    },
    "tags": []
   },
   "source": [
    "Now, read the file of \"test\" data, and apply your model to make predictions."
   ]
  },
  {
   "cell_type": "code",
   "execution_count": 4,
   "id": "26b239bf",
   "metadata": {
    "execution": {
     "iopub.execute_input": "2021-11-16T12:33:18.984567Z",
     "iopub.status.busy": "2021-11-16T12:33:18.983981Z",
     "iopub.status.idle": "2021-11-16T12:33:19.122569Z",
     "shell.execute_reply": "2021-11-16T12:33:19.123158Z",
     "shell.execute_reply.started": "2021-11-16T12:32:42.417346Z"
    },
    "papermill": {
     "duration": 0.15671,
     "end_time": "2021-11-16T12:33:19.123352",
     "exception": false,
     "start_time": "2021-11-16T12:33:18.966642",
     "status": "completed"
    },
    "tags": []
   },
   "outputs": [],
   "source": [
    "# path to file you will use for predictions\n",
    "test_data_path = '../input/test.csv'\n",
    "\n",
    "# read test data file using pandas\n",
    "test_data = pd.read_csv(test_data_path)\n",
    "#print(test_data.columns)\n",
    "#test_data1=test_data.dropna(axis=0)\n",
    "test_data.describe()\n",
    "test_data[\"LotFrontage\"]=test_data[\"LotFrontage\"].replace(np.NaN,test_data[\"LotFrontage\"].mean())\n",
    "test_data[\"GarageArea\"]=test_data[\"GarageArea\"].replace(np.NaN,test_data[\"GarageArea\"].mean())\n",
    "test_data[\"HouseStyle\"] = [1 if x==\"1Story\" else 2 for x in test_data[\"HouseStyle\"]]\n",
    "test_data[\"TotalBsmtSF\"]=test_data[\"TotalBsmtSF\"].replace(np.NaN,test_data[\"TotalBsmtSF\"].mean())\n",
    "#print()\n",
    "#print(test_data.LotFrontage[:100])\n",
    "#print(test_data.MSZoning)\n",
    "#print(test_data.HouseStyle)\n",
    "# create test_X which comes from test_data but includes only the columns you used for prediction.\n",
    "# The list of columns is stored in a variable called features\n",
    "#features_1=['LotArea','YearBuilt','1stFlrSF','2ndFlrSF','FullBath','TotRmsAbvGrd','BedroomAbvGr','TotalBsmtSF','GarageArea']\n",
    "test_X = test_data[features]\n",
    "#print(test_data.PoolArea)\n",
    "# make predictions which we will submit. \n",
    "test_preds = rf_model_on_full_data.predict(test_X)\n",
    "#rf_val_mae1= mean_absolute_error(test_preds, y)\n",
    "#print(\"Validation MAE for Random Forest Model: {:,.0f}\".format(rf_val_mae1))"
   ]
  },
  {
   "cell_type": "markdown",
   "id": "d80b998a",
   "metadata": {
    "papermill": {
     "duration": 0.011714,
     "end_time": "2021-11-16T12:33:19.146410",
     "exception": false,
     "start_time": "2021-11-16T12:33:19.134696",
     "status": "completed"
    },
    "tags": []
   },
   "source": [
    "Before submitting, run a check to make sure your `test_preds` have the right format."
   ]
  },
  {
   "cell_type": "code",
   "execution_count": 5,
   "id": "9d8efc87",
   "metadata": {
    "execution": {
     "iopub.execute_input": "2021-11-16T12:33:19.174331Z",
     "iopub.status.busy": "2021-11-16T12:33:19.173259Z",
     "iopub.status.idle": "2021-11-16T12:33:19.182295Z",
     "shell.execute_reply": "2021-11-16T12:33:19.181618Z",
     "shell.execute_reply.started": "2021-11-16T12:27:41.586518Z"
    },
    "papermill": {
     "duration": 0.024751,
     "end_time": "2021-11-16T12:33:19.182438",
     "exception": false,
     "start_time": "2021-11-16T12:33:19.157687",
     "status": "completed"
    },
    "tags": []
   },
   "outputs": [
    {
     "data": {
      "application/javascript": [
       "parent.postMessage({\"jupyterEvent\": \"custom.exercise_interaction\", \"data\": {\"outcomeType\": 1, \"valueTowardsCompletion\": 1.0, \"interactionType\": 1, \"questionType\": 2, \"questionId\": \"1_CheckSubmittablePreds\", \"learnToolsVersion\": \"0.3.4\", \"failureMessage\": \"\", \"exceptionClass\": \"\", \"trace\": \"\"}}, \"*\")"
      ],
      "text/plain": [
       "<IPython.core.display.Javascript object>"
      ]
     },
     "metadata": {},
     "output_type": "display_data"
    },
    {
     "data": {
      "text/markdown": [
       "<span style=\"color:#33cc33\">Correct</span>"
      ],
      "text/plain": [
       "Correct"
      ]
     },
     "metadata": {},
     "output_type": "display_data"
    },
    {
     "data": {
      "application/javascript": [
       "parent.postMessage({\"jupyterEvent\": \"custom.exercise_interaction\", \"data\": {\"interactionType\": 3, \"questionType\": 2, \"questionId\": \"1_CheckSubmittablePreds\", \"learnToolsVersion\": \"0.3.4\", \"valueTowardsCompletion\": 0.0, \"failureMessage\": \"\", \"exceptionClass\": \"\", \"trace\": \"\", \"outcomeType\": 4}}, \"*\")"
      ],
      "text/plain": [
       "<IPython.core.display.Javascript object>"
      ]
     },
     "metadata": {},
     "output_type": "display_data"
    },
    {
     "data": {
      "text/markdown": [
       "<span style=\"color:#33cc99\">Solution:</span> \n",
       "```python\n",
       "\n",
       "# In previous code cell\n",
       "rf_model_on_full_data = RandomForestRegressor()\n",
       "rf_model_on_full_data.fit(X, y)\n",
       "\n",
       "# Then in last code cell\n",
       "test_data_path = '../input/test.csv'\n",
       "test_data = pd.read_csv(test_data_path)\n",
       "test_X = test_data[features]\n",
       "test_preds = rf_model_on_full_data.predict(test_X)\n",
       "\n",
       "\n",
       "output = pd.DataFrame({'Id': test_data.Id,\n",
       "                       'SalePrice': test_preds})\n",
       "output.to_csv('submission.csv', index=False)\n",
       "\n",
       "```"
      ],
      "text/plain": [
       "Solution: \n",
       "```python\n",
       "\n",
       "# In previous code cell\n",
       "rf_model_on_full_data = RandomForestRegressor()\n",
       "rf_model_on_full_data.fit(X, y)\n",
       "\n",
       "# Then in last code cell\n",
       "test_data_path = '../input/test.csv'\n",
       "test_data = pd.read_csv(test_data_path)\n",
       "test_X = test_data[features]\n",
       "test_preds = rf_model_on_full_data.predict(test_X)\n",
       "\n",
       "\n",
       "output = pd.DataFrame({'Id': test_data.Id,\n",
       "                       'SalePrice': test_preds})\n",
       "output.to_csv('submission.csv', index=False)\n",
       "\n",
       "```"
      ]
     },
     "metadata": {},
     "output_type": "display_data"
    }
   ],
   "source": [
    "# Check your answer (To get credit for completing the exercise, you must get a \"Correct\" result!)\n",
    "step_1.check()\n",
    "step_1.solution()"
   ]
  },
  {
   "cell_type": "markdown",
   "id": "632a74b6",
   "metadata": {
    "papermill": {
     "duration": 0.011723,
     "end_time": "2021-11-16T12:33:19.207105",
     "exception": false,
     "start_time": "2021-11-16T12:33:19.195382",
     "status": "completed"
    },
    "tags": []
   },
   "source": [
    "# Generate a submission\n",
    "\n",
    "Run the code cell below to generate a CSV file with your predictions that you can use to submit to the competition."
   ]
  },
  {
   "cell_type": "code",
   "execution_count": 6,
   "id": "90c31466",
   "metadata": {
    "execution": {
     "iopub.execute_input": "2021-11-16T12:33:19.236634Z",
     "iopub.status.busy": "2021-11-16T12:33:19.235700Z",
     "iopub.status.idle": "2021-11-16T12:33:19.243856Z",
     "shell.execute_reply": "2021-11-16T12:33:19.244377Z",
     "shell.execute_reply.started": "2021-11-16T12:27:46.509734Z"
    },
    "papermill": {
     "duration": 0.025539,
     "end_time": "2021-11-16T12:33:19.244526",
     "exception": false,
     "start_time": "2021-11-16T12:33:19.218987",
     "status": "completed"
    },
    "tags": []
   },
   "outputs": [],
   "source": [
    "# Run the code to save predictions in the format used for competition scoring\n",
    "\n",
    "output = pd.DataFrame({'Id': test_data.Id,\n",
    "                       'SalePrice': test_preds})\n",
    "output.to_csv('submission.csv', index=False)"
   ]
  },
  {
   "cell_type": "markdown",
   "id": "6d4f446c",
   "metadata": {
    "papermill": {
     "duration": 0.011823,
     "end_time": "2021-11-16T12:33:19.268170",
     "exception": false,
     "start_time": "2021-11-16T12:33:19.256347",
     "status": "completed"
    },
    "tags": []
   },
   "source": [
    "# Submit to the competition\n",
    "\n",
    "To test your results, you'll need to join the competition (if you haven't already).  So open a new window by clicking on **[this link](https://www.kaggle.com/c/home-data-for-ml-course)**.  Then click on the **Join Competition** button.\n",
    "\n",
    "![join competition image](https://i.imgur.com/axBzctl.png)\n",
    "\n",
    "Next, follow the instructions below:\n",
    "1. Begin by clicking on the **Save Version** button in the top right corner of the window.  This will generate a pop-up window.  \n",
    "2. Ensure that the **Save and Run All** option is selected, and then click on the **Save** button.\n",
    "3. This generates a window in the bottom left corner of the notebook.  After it has finished running, click on the number to the right of the **Save Version** button.  This pulls up a list of versions on the right of the screen.  Click on the ellipsis **(...)** to the right of the most recent version, and select **Open in Viewer**.  This brings you into view mode of the same page. You will need to scroll down to get back to these instructions.\n",
    "4. Click on the **Output** tab on the right of the screen.  Then, click on the file you would like to submit, and click on the **Submit** button to submit your results to the leaderboard.\n",
    "\n",
    "You have now successfully submitted to the competition!\n",
    "\n",
    "If you want to keep working to improve your performance, select the **Edit** button in the top right of the screen. Then you can change your code and repeat the process. There's a lot of room to improve, and you will climb up the leaderboard as you work.\n",
    "\n",
    "\n",
    "# Continue Your Progress\n",
    "There are many ways to improve your model, and **experimenting is a great way to learn at this point.**\n",
    "\n",
    "The best way to improve your model is to add features.  To add more features to the data, revisit the first code cell, and change this line of code to include more column names:\n",
    "```python\n",
    "features = ['LotArea', 'YearBuilt', '1stFlrSF', '2ndFlrSF', 'FullBath', 'BedroomAbvGr', 'TotRmsAbvGrd']\n",
    "```\n",
    "\n",
    "Some features will cause errors because of issues like missing values or non-numeric data types.  Here is a complete list of potential columns that you might like to use, and that won't throw errors:\n",
    "- 'MSSubClass'\n",
    "- 'LotArea'\n",
    "- 'OverallQual' \n",
    "- 'OverallCond' \n",
    "- 'YearBuilt'\n",
    "- 'YearRemodAdd' \n",
    "- '1stFlrSF'\n",
    "- '2ndFlrSF' \n",
    "- 'LowQualFinSF' \n",
    "- 'GrLivArea'\n",
    "- 'FullBath'\n",
    "- 'HalfBath'\n",
    "- 'BedroomAbvGr' \n",
    "- 'KitchenAbvGr' \n",
    "- 'TotRmsAbvGrd' \n",
    "- 'Fireplaces' \n",
    "- 'WoodDeckSF' \n",
    "- 'OpenPorchSF'\n",
    "- 'EnclosedPorch' \n",
    "- '3SsnPorch' \n",
    "- 'ScreenPorch' \n",
    "- 'PoolArea' \n",
    "- 'MiscVal' \n",
    "- 'MoSold' \n",
    "- 'YrSold'\n",
    "\n",
    "Look at the list of columns and think about what might affect home prices.  To learn more about each of these features, take a look at the data description on the **[competition page](https://www.kaggle.com/c/home-data-for-ml-course/data)**.\n",
    "\n",
    "After updating the code cell above that defines the features, re-run all of the code cells to evaluate the model and generate a new submission file.  \n",
    "\n",
    "\n",
    "# What's next?\n",
    "\n",
    "As mentioned above, some of the features will throw an error if you try to use them to train your model.  The **[Intermediate Machine Learning](https://www.kaggle.com/learn/intermediate-machine-learning)** course will teach you how to handle these types of features. You will also learn to use **xgboost**, a technique giving even better accuracy than Random Forest.\n",
    "\n",
    "The **[Pandas](https://kaggle.com/Learn/Pandas)** course will give you the data manipulation skills to quickly go from conceptual idea to implementation in your data science projects. \n",
    "\n",
    "You are also ready for the **[Deep Learning](https://kaggle.com/Learn/intro-to-Deep-Learning)** course, where you will build models with better-than-human level performance at computer vision tasks."
   ]
  },
  {
   "cell_type": "markdown",
   "id": "07caa940",
   "metadata": {
    "papermill": {
     "duration": 0.0121,
     "end_time": "2021-11-16T12:33:19.292061",
     "exception": false,
     "start_time": "2021-11-16T12:33:19.279961",
     "status": "completed"
    },
    "tags": []
   },
   "source": [
    "---\n",
    "\n",
    "\n",
    "\n",
    "\n",
    "*Have questions or comments? Visit the [course discussion forum](https://www.kaggle.com/learn/intro-to-machine-learning/discussion) to chat with other learners.*"
   ]
  }
 ],
 "metadata": {
  "kernelspec": {
   "display_name": "Python 3",
   "language": "python",
   "name": "python3"
  },
  "language_info": {
   "codemirror_mode": {
    "name": "ipython",
    "version": 3
   },
   "file_extension": ".py",
   "mimetype": "text/x-python",
   "name": "python",
   "nbconvert_exporter": "python",
   "pygments_lexer": "ipython3",
   "version": "3.7.10"
  },
  "papermill": {
   "default_parameters": {},
   "duration": 12.256317,
   "end_time": "2021-11-16T12:33:19.912969",
   "environment_variables": {},
   "exception": null,
   "input_path": "__notebook__.ipynb",
   "output_path": "__notebook__.ipynb",
   "parameters": {},
   "start_time": "2021-11-16T12:33:07.656652",
   "version": "2.3.3"
  }
 },
 "nbformat": 4,
 "nbformat_minor": 5
}
