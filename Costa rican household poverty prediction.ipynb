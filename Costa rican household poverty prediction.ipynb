{
 "cells": [
  {
   "cell_type": "code",
   "execution_count": 2,
   "metadata": {
    "id": "BR3JXn5HU9rX"
   },
   "outputs": [],
   "source": [
    "import pandas as pd\n",
    "import numpy as np\n",
    "import matplotlib.pyplot as plt"
   ]
  },
  {
   "cell_type": "code",
   "execution_count": 3,
   "metadata": {
    "id": "hsg8dBEaU9rp"
   },
   "outputs": [],
   "source": [
    "df = pd.read_csv('train.csv')"
   ]
  },
  {
   "cell_type": "code",
   "execution_count": 4,
   "metadata": {
    "colab": {
     "base_uri": "https://localhost:8080/"
    },
    "id": "ybj7VbTfU9r5",
    "outputId": "9eead217-48ce-471c-9c0e-7937573c25b0"
   },
   "outputs": [
    {
     "data": {
      "text/plain": [
       "(9557, 143)"
      ]
     },
     "execution_count": 4,
     "metadata": {},
     "output_type": "execute_result"
    }
   ],
   "source": [
    "df.shape"
   ]
  },
  {
   "cell_type": "code",
   "execution_count": 5,
   "metadata": {
    "colab": {
     "base_uri": "https://localhost:8080/"
    },
    "id": "bItpWysqU9sJ",
    "outputId": "5c353cff-e132-4ca4-b75c-d3649ecdd5e7"
   },
   "outputs": [
    {
     "data": {
      "text/plain": [
       "Index(['v2a1', 'v18q1', 'rez_esc', 'meaneduc', 'SQBmeaned'], dtype='object')"
      ]
     },
     "execution_count": 5,
     "metadata": {},
     "output_type": "execute_result"
    }
   ],
   "source": [
    "df.columns[df.isnull().sum() > 0]"
   ]
  },
  {
   "cell_type": "code",
   "execution_count": 6,
   "metadata": {
    "id": "M5pnOVMsU9sW"
   },
   "outputs": [],
   "source": [
    "df.fillna(method='bfill',inplace=True)"
   ]
  },
  {
   "cell_type": "code",
   "execution_count": 7,
   "metadata": {
    "colab": {
     "base_uri": "https://localhost:8080/"
    },
    "id": "EBbh8sjdU9sh",
    "outputId": "793d6f88-f687-49a1-f9d2-d4ea359611c9"
   },
   "outputs": [
    {
     "data": {
      "text/plain": [
       "Index(['v18q1', 'rez_esc'], dtype='object')"
      ]
     },
     "execution_count": 7,
     "metadata": {},
     "output_type": "execute_result"
    }
   ],
   "source": [
    "df.columns[df.isnull().sum() > 0]"
   ]
  },
  {
   "cell_type": "code",
   "execution_count": 8,
   "metadata": {
    "id": "ljoFuOYvU9st"
   },
   "outputs": [],
   "source": [
    "df.fillna(method='ffill',inplace=True)"
   ]
  },
  {
   "cell_type": "code",
   "execution_count": 9,
   "metadata": {
    "colab": {
     "base_uri": "https://localhost:8080/"
    },
    "id": "vSdpRINJU9s7",
    "outputId": "fee759e3-b073-495e-9da2-96bcf7de115d"
   },
   "outputs": [
    {
     "data": {
      "text/plain": [
       "Index([], dtype='object')"
      ]
     },
     "execution_count": 9,
     "metadata": {},
     "output_type": "execute_result"
    }
   ],
   "source": [
    "df.columns[df.isnull().sum() > 0]"
   ]
  },
  {
   "cell_type": "code",
   "execution_count": 10,
   "metadata": {
    "colab": {
     "base_uri": "https://localhost:8080/"
    },
    "id": "2VeG9qEkU9tG",
    "outputId": "4b5b620b-ccb7-4e97-cbd7-f81fd0e50269"
   },
   "outputs": [
    {
     "name": "stdout",
     "output_type": "stream",
     "text": [
      "{'edjefa', 'idhogar', 'Id', 'edjefe', 'dependency'}\n"
     ]
    }
   ],
   "source": [
    "\n",
    "Numeric_columns=df.select_dtypes(include=np.number).columns.tolist()\n",
    "categorical_col=set(df.columns).difference(set(Numeric_columns))\n",
    "\n",
    "print(categorical_col)"
   ]
  },
  {
   "cell_type": "code",
   "execution_count": 11,
   "metadata": {
    "id": "pOmPIsQfU9tV"
   },
   "outputs": [],
   "source": [
    "df['edjefe'] = df['edjefe'].replace({'no': 0, 'yes':1}).astype(float)\n",
    "df['edjefa'] = df['edjefa'].replace({'no': 0, 'yes':1}).astype(float)"
   ]
  },
  {
   "cell_type": "code",
   "execution_count": 12,
   "metadata": {
    "colab": {
     "base_uri": "https://localhost:8080/"
    },
    "id": "3ioc78SCU9ta",
    "outputId": "a22cdc19-c7c2-48e6-96b7-a2525bbba952"
   },
   "outputs": [
    {
     "name": "stdout",
     "output_type": "stream",
     "text": [
      "{'idhogar', 'Id', 'dependency'}\n"
     ]
    }
   ],
   "source": [
    "\n",
    "Numeric_columns=df.select_dtypes(include=np.number).columns.tolist()\n",
    "categorical_col=set(df.columns).difference(set(Numeric_columns))\n",
    "\n",
    "print(categorical_col)"
   ]
  },
  {
   "cell_type": "code",
   "execution_count": 13,
   "metadata": {
    "id": "SUeLDsazU9tz"
   },
   "outputs": [],
   "source": [
    "df['dependency'] = np.sqrt(df['SQBdependency'])"
   ]
  },
  {
   "cell_type": "code",
   "execution_count": 14,
   "metadata": {
    "colab": {
     "base_uri": "https://localhost:8080/"
    },
    "id": "ZGlLtv9gU9t-",
    "outputId": "3b16e8e0-53d2-4d3d-9f11-b35ede2fe604"
   },
   "outputs": [
    {
     "data": {
      "text/plain": [
       "0"
      ]
     },
     "execution_count": 14,
     "metadata": {},
     "output_type": "execute_result"
    }
   ],
   "source": [
    "df.isna().sum().sum()"
   ]
  },
  {
   "cell_type": "code",
   "execution_count": 15,
   "metadata": {
    "id": "mvJDRbVBU9uI"
   },
   "outputs": [],
   "source": [
    "col_drops = ['Id','idhogar']\n",
    "df.drop(col_drops,axis=1,inplace=True)"
   ]
  },
  {
   "cell_type": "code",
   "execution_count": 16,
   "metadata": {
    "colab": {
     "base_uri": "https://localhost:8080/"
    },
    "id": "IcaKVSpbU9uT",
    "outputId": "90ad37d5-0ba8-47ad-c234-ad68a1364526"
   },
   "outputs": [
    {
     "name": "stdout",
     "output_type": "stream",
     "text": [
      "set()\n"
     ]
    }
   ],
   "source": [
    "# finding numeric and categorical columns\n",
    "Numeric_columns=df.select_dtypes(include=np.number).columns.tolist()\n",
    "categorical_col=set(df.columns).difference(set(Numeric_columns))\n",
    "# numeric cols to numeric\n",
    "print(categorical_col)"
   ]
  },
  {
   "cell_type": "code",
   "execution_count": 17,
   "metadata": {
    "id": "RSQ9MEt5U9ug"
   },
   "outputs": [],
   "source": [
    "train_set = df"
   ]
  },
  {
   "cell_type": "code",
   "execution_count": 80,
   "metadata": {
    "id": "OneyW2qyU9uu"
   },
   "outputs": [],
   "source": [
    "df['rent_per_adult'] = df['v2a1']/df['hogar_adul']\n",
    "df['rent_per_person'] = df['v2a1']/df['hhsize']\n",
    "\n",
    "df['overcrowding_room_and_bedroom'] = (df['hacdor'] + df['hacapo'])/2\n",
    "\n",
    "df['no_appliances'] = df['refrig'] + df['computer'] + df['television']\n",
    "\n",
    "# df1['home_condition_poor'] = (df1['epared1'] + df1['etecho1'] + df1['eviv1'])/3\n",
    "# df1['home_condition_regular'] = (df1['epared2'] + df1['etecho2'] + df1['eviv2'])/3\n",
    "# df1['home_condition_good'] = (df1['epared3'] + df1['etecho3'] + df1['eviv3'])/3\n",
    "\n",
    "df['r4h1_percent_in_male'] = df['r4h1'] / df['r4h3']\n",
    "df['r4m1_percent_in_female'] = df['r4m1'] / df['r4m3']\n",
    "df['r4h1_percent_in_total'] = df['r4h1'] / df['hhsize']\n",
    "df['r4m1_percent_in_total'] = df['r4m1'] / df['hhsize']\n",
    "df['r4t1_percent_in_total'] = df['r4t1'] / df['hhsize']\n",
    "\n",
    "df['adult'] = df['hogar_adul'] - df['hogar_mayor']\n",
    "df['dependency_count'] = train_set['hogar_nin'] + df['hogar_mayor']\n",
    "df['dependency'] = df['dependency_count'] / df['adult']\n",
    "df['child_percent'] = df['hogar_nin']/df['hogar_total']\n",
    "df['elder_percent'] = df['hogar_mayor']/df['hogar_total']\n",
    "df['adult_percent'] = df['hogar_adul']/df['hogar_total']\n",
    "\n",
    "df['rent_per_bedroom'] = df['v2a1']/df['bedrooms']\n",
    "df['adults_per_bedroom'] = df['adult']/df['bedrooms']\n",
    "df['child_per_bedroom'] = df['hogar_nin']/df['bedrooms']\n",
    "df['male_per_bedroom'] = df['r4h3']/df['bedrooms']\n",
    "\n",
    "df['female_per_bedroom'] = df['r4m3']/df['bedrooms']\n",
    "df['bedrooms_per_person_household'] = df['hhsize']/df['bedrooms']\n",
    "\n",
    "df['tablet_per_person_household'] = df['v18q1']/df['hhsize']\n",
    "df['phone_per_person_household'] = df['qmobilephone']/df['hhsize']\n",
    "\n",
    "df['age_12_19'] = df['hogar_nin'] - df['r4t1']\n",
    "\n",
    "df['rent_per_room'] = df['v2a1']/df['rooms']\n",
    "df['bedroom_per_room'] = df['bedrooms']/df['rooms']\n",
    "df['elder_per_room'] = df['hogar_mayor']/df['rooms']\n",
    "df['adults_per_room'] = df['adult']/df['rooms']\n",
    "df['child_per_room'] = df['hogar_nin']/df['rooms']\n",
    "df['male_per_room'] = df['r4h3']/df['rooms']\n",
    "df['female_per_room'] = df['r4m3']/df['rooms']\n",
    "df['room_per_person_household'] = df['hhsize']/df['rooms']\n",
    "df['escolari_age'] = df['escolari']/df['age']\n",
    "\n",
    "df['rez_esc_escolari'] = df['rez_esc']/df['escolari']\n",
    "df['rez_esc_r4t1'] = df['rez_esc']/df['r4t1']\n",
    "df['rez_esc_r4t2'] = df['rez_esc']/df['r4t2']\n",
    "df['rez_esc_r4t3'] = df['rez_esc']/df['r4t3']\n",
    "df['rez_esc_age'] = df['rez_esc']/df['age']\n"
   ]
  },
  {
   "cell_type": "code",
   "execution_count": 81,
   "metadata": {
    "id": "b0J0fSNyU9u-"
   },
   "outputs": [],
   "source": [
    "from lightgbm import LGBMClassifier\n",
    "from sklearn.ensemble import RandomForestRegressor\n",
    "from sklearn.naive_bayes import GaussianNB\n"
   ]
  },
  {
   "cell_type": "code",
   "execution_count": 21,
   "metadata": {
    "id": "RbJRp_xdU9ve"
   },
   "outputs": [],
   "source": [
    "from sklearn.model_selection import cross_val_score\n",
    "from bayes_opt import BayesianOptimization"
   ]
  },
  {
   "cell_type": "code",
   "execution_count": 108,
   "metadata": {
    "colab": {
     "base_uri": "https://localhost:8080/"
    },
    "id": "bADfa1wTU9wC",
    "outputId": "bf557044-5ff8-4e2e-d1c1-f0ed39713f04"
   },
   "outputs": [
    {
     "name": "stdout",
     "output_type": "stream",
     "text": [
      "Requirement already satisfied: lightgbm in c:\\users\\nitya\\anaconda3\\lib\\site-packages (3.3.1)\n",
      "Requirement already satisfied: wheel in c:\\users\\nitya\\anaconda3\\lib\\site-packages (from lightgbm) (0.34.2)\n",
      "Requirement already satisfied: numpy in c:\\users\\nitya\\anaconda3\\lib\\site-packages (from lightgbm) (1.18.5)\n",
      "Requirement already satisfied: scipy in c:\\users\\nitya\\anaconda3\\lib\\site-packages (from lightgbm) (1.5.0)\n",
      "Requirement already satisfied: scikit-learn!=0.22.0 in c:\\users\\nitya\\anaconda3\\lib\\site-packages (from lightgbm) (0.23.1)\n",
      "Requirement already satisfied: joblib>=0.11 in c:\\users\\nitya\\anaconda3\\lib\\site-packages (from scikit-learn!=0.22.0->lightgbm) (0.16.0)\n",
      "Requirement already satisfied: threadpoolctl>=2.0.0 in c:\\users\\nitya\\anaconda3\\lib\\site-packages (from scikit-learn!=0.22.0->lightgbm) (2.1.0)\n",
      "Note: you may need to restart the kernel to use updated packages.\n"
     ]
    }
   ],
   "source": [
    "pip install lightgbm"
   ]
  },
  {
   "cell_type": "code",
   "execution_count": 46,
   "metadata": {
    "colab": {
     "base_uri": "https://localhost:8080/"
    },
    "id": "nc6vcvs_U9wP",
    "outputId": "251c7a71-bde5-442f-850f-e4c431ae1557"
   },
   "outputs": [
    {
     "name": "stdout",
     "output_type": "stream",
     "text": [
      "Requirement already satisfied: bayesian-optimization in c:\\users\\nitya\\anaconda3\\lib\\site-packages (1.2.0)\n",
      "Requirement already satisfied: numpy>=1.9.0 in c:\\users\\nitya\\anaconda3\\lib\\site-packages (from bayesian-optimization) (1.18.5)\n",
      "Requirement already satisfied: scipy>=0.14.0 in c:\\users\\nitya\\anaconda3\\lib\\site-packages (from bayesian-optimization) (1.5.0)\n",
      "Requirement already satisfied: scikit-learn>=0.18.0 in c:\\users\\nitya\\anaconda3\\lib\\site-packages (from bayesian-optimization) (0.23.1)\n",
      "Requirement already satisfied: joblib>=0.11 in c:\\users\\nitya\\anaconda3\\lib\\site-packages (from scikit-learn>=0.18.0->bayesian-optimization) (0.16.0)\n",
      "Requirement already satisfied: threadpoolctl>=2.0.0 in c:\\users\\nitya\\anaconda3\\lib\\site-packages (from scikit-learn>=0.18.0->bayesian-optimization) (2.1.0)\n"
     ]
    }
   ],
   "source": [
    "!pip install bayesian-optimization"
   ]
  },
  {
   "cell_type": "code",
   "execution_count": 93,
   "metadata": {
    "id": "DycqVv83U9wo"
   },
   "outputs": [],
   "source": [
    "x_1 = df.drop('Target',axis=1)\n",
    "y = df['Target']"
   ]
  },
  {
   "cell_type": "code",
   "execution_count": 103,
   "metadata": {},
   "outputs": [],
   "source": [
    "cols= [col for col in x_1.columns if x_1[col].isnull().any()]\n",
    "reduced_x_1 = x_1.drop(cols, axis=1)\n",
    "\n",
    "# reduced_X_valid = X_valid.drop(cols_with_missing, axis=1)"
   ]
  },
  {
   "cell_type": "code",
   "execution_count": 104,
   "metadata": {
    "colab": {
     "base_uri": "https://localhost:8080/"
    },
    "id": "UGyTJ72cU9wt",
    "outputId": "e5cb7fa8-5aec-42e7-bd1f-bdaa187ae79b"
   },
   "outputs": [
    {
     "data": {
      "text/plain": [
       "(9557, 178)"
      ]
     },
     "execution_count": 104,
     "metadata": {},
     "output_type": "execute_result"
    }
   ],
   "source": [
    "df.shape"
   ]
  },
  {
   "cell_type": "code",
   "execution_count": 105,
   "metadata": {
    "colab": {
     "base_uri": "https://localhost:8080/"
    },
    "id": "9BbX-lrvU9w3",
    "outputId": "71140855-b723-4ee5-b9cc-ab5ce3cb1a53"
   },
   "outputs": [
    {
     "data": {
      "text/plain": [
       "(9557, 177)"
      ]
     },
     "execution_count": 105,
     "metadata": {},
     "output_type": "execute_result"
    }
   ],
   "source": [
    "x_1.shape"
   ]
  },
  {
   "cell_type": "code",
   "execution_count": 106,
   "metadata": {},
   "outputs": [
    {
     "data": {
      "text/plain": [
       "(9557, 171)"
      ]
     },
     "execution_count": 106,
     "metadata": {},
     "output_type": "execute_result"
    }
   ],
   "source": [
    "reduced_x_1.shape"
   ]
  },
  {
   "cell_type": "code",
   "execution_count": 107,
   "metadata": {
    "id": "CotxJMnNU9xN"
   },
   "outputs": [],
   "source": [
    "from sklearn.linear_model import LogisticRegression\n",
    "from sklearn.model_selection import RepeatedKFold\n",
    "from sklearn.model_selection import cross_validate,cross_val_score"
   ]
  },
  {
   "cell_type": "code",
   "execution_count": 252,
   "metadata": {
    "id": "GoaSvU_-nCQ_"
   },
   "outputs": [],
   "source": [
    "def optimize_lgb(data, targets):\n",
    "    def lgb_crossval(n_estimators, num_leaves, min_child_samples, subsample):\n",
    "        return lgb_cv(\n",
    "            n_estimators=int(n_estimators),\n",
    "            num_leaves = int(num_leaves),\n",
    "            min_child_samples=int(min_child_samples),\n",
    "            subsample=subsample,\n",
    "            data=data,\n",
    "            targets=targets,\n",
    "        )\n",
    "\n",
    "    optimizer = BayesianOptimization(\n",
    "        f=lgb_crossval,\n",
    "        pbounds={\n",
    "            \"n_estimators\": (100,500),\n",
    "            \"num_leaves\": (30,80),\n",
    "            \"min_child_samples\": (5,30),\n",
    "            \"subsample\": (0.6,1.0)\n",
    "        },\n",
    "        random_state=1234,\n",
    "        verbose=2\n",
    "    )\n",
    "    optimizer.maximize(n_iter=25, init_points=20)\n",
    "\n",
    "    print(\"Final result:\", optimizer.max)"
   ]
  },
  {
   "cell_type": "code",
   "execution_count": null,
   "metadata": {
    "id": "TicgIia4nCRA"
   },
   "outputs": [],
   "source": [
    "print(\"--- Optimizing Light GBM ---\")\n",
    "optimize_lgb(x_1, y)"
   ]
  },
  {
   "cell_type": "code",
   "execution_count": 108,
   "metadata": {
    "id": "Ry94-c0rnCRB",
    "outputId": "78ef3eda-0e0d-4c4f-fcb2-bfde4278977e"
   },
   "outputs": [],
   "source": [
    "\n",
    "Lgbm=LGBMClassifier(n_estimators=200,learning_rate=0.1,random_state=45,num_leaves=200)\n",
    "model = GaussianNB()\n",
    "    \n",
    "# model = RandomForestRegressor(n_estimators=100, random_state=0)"
   ]
  },
  {
   "cell_type": "code",
   "execution_count": 109,
   "metadata": {
    "id": "qo-7u2A-nCRB"
   },
   "outputs": [],
   "source": [
    "from sklearn.model_selection import train_test_split\n"
   ]
  },
  {
   "cell_type": "code",
   "execution_count": 110,
   "metadata": {
    "id": "qbHtUdz3nCRC"
   },
   "outputs": [],
   "source": [
    "x_train,x_test,y_train,y_test = train_test_split(reduced_x_1,y,random_state=42)\n",
    "#x_train, x_valid, y_train, y_valid = train_test_split(x_1, y, train_size=0.8, test_size=0.2,random_state=0)"
   ]
  },
  {
   "cell_type": "code",
   "execution_count": 111,
   "metadata": {
    "id": "y126p8eOnCRC",
    "outputId": "789ba820-8f54-4ed0-e5c1-240946b554fd"
   },
   "outputs": [
    {
     "ename": "ValueError",
     "evalue": "Input contains NaN, infinity or a value too large for dtype('float64').",
     "output_type": "error",
     "traceback": [
      "\u001b[1;31m---------------------------------------------------------------------------\u001b[0m",
      "\u001b[1;31mValueError\u001b[0m                                Traceback (most recent call last)",
      "\u001b[1;32m<ipython-input-111-335a608be8ac>\u001b[0m in \u001b[0;36m<module>\u001b[1;34m\u001b[0m\n\u001b[0;32m      1\u001b[0m \u001b[1;31m#Lgbm.fit(x_train,y_train)\u001b[0m\u001b[1;33m\u001b[0m\u001b[1;33m\u001b[0m\u001b[1;33m\u001b[0m\u001b[0m\n\u001b[1;32m----> 2\u001b[1;33m \u001b[0mmodel\u001b[0m\u001b[1;33m.\u001b[0m\u001b[0mfit\u001b[0m\u001b[1;33m(\u001b[0m\u001b[0mx_train\u001b[0m\u001b[1;33m,\u001b[0m\u001b[0my_train\u001b[0m\u001b[1;33m)\u001b[0m\u001b[1;33m\u001b[0m\u001b[1;33m\u001b[0m\u001b[0m\n\u001b[0m\u001b[0;32m      3\u001b[0m \u001b[1;31m# model.fit(x_train,y_train)\u001b[0m\u001b[1;33m\u001b[0m\u001b[1;33m\u001b[0m\u001b[1;33m\u001b[0m\u001b[0m\n",
      "\u001b[1;32m~\\anaconda3\\lib\\site-packages\\sklearn\\naive_bayes.py\u001b[0m in \u001b[0;36mfit\u001b[1;34m(self, X, y, sample_weight)\u001b[0m\n\u001b[0;32m    208\u001b[0m         \u001b[0mself\u001b[0m \u001b[1;33m:\u001b[0m \u001b[0mobject\u001b[0m\u001b[1;33m\u001b[0m\u001b[1;33m\u001b[0m\u001b[0m\n\u001b[0;32m    209\u001b[0m         \"\"\"\n\u001b[1;32m--> 210\u001b[1;33m         \u001b[0mX\u001b[0m\u001b[1;33m,\u001b[0m \u001b[0my\u001b[0m \u001b[1;33m=\u001b[0m \u001b[0mself\u001b[0m\u001b[1;33m.\u001b[0m\u001b[0m_validate_data\u001b[0m\u001b[1;33m(\u001b[0m\u001b[0mX\u001b[0m\u001b[1;33m,\u001b[0m \u001b[0my\u001b[0m\u001b[1;33m)\u001b[0m\u001b[1;33m\u001b[0m\u001b[1;33m\u001b[0m\u001b[0m\n\u001b[0m\u001b[0;32m    211\u001b[0m         \u001b[0my\u001b[0m \u001b[1;33m=\u001b[0m \u001b[0mcolumn_or_1d\u001b[0m\u001b[1;33m(\u001b[0m\u001b[0my\u001b[0m\u001b[1;33m,\u001b[0m \u001b[0mwarn\u001b[0m\u001b[1;33m=\u001b[0m\u001b[1;32mTrue\u001b[0m\u001b[1;33m)\u001b[0m\u001b[1;33m\u001b[0m\u001b[1;33m\u001b[0m\u001b[0m\n\u001b[0;32m    212\u001b[0m         return self._partial_fit(X, y, np.unique(y), _refit=True,\n",
      "\u001b[1;32m~\\anaconda3\\lib\\site-packages\\sklearn\\base.py\u001b[0m in \u001b[0;36m_validate_data\u001b[1;34m(self, X, y, reset, validate_separately, **check_params)\u001b[0m\n\u001b[0;32m    430\u001b[0m                 \u001b[0my\u001b[0m \u001b[1;33m=\u001b[0m \u001b[0mcheck_array\u001b[0m\u001b[1;33m(\u001b[0m\u001b[0my\u001b[0m\u001b[1;33m,\u001b[0m \u001b[1;33m**\u001b[0m\u001b[0mcheck_y_params\u001b[0m\u001b[1;33m)\u001b[0m\u001b[1;33m\u001b[0m\u001b[1;33m\u001b[0m\u001b[0m\n\u001b[0;32m    431\u001b[0m             \u001b[1;32melse\u001b[0m\u001b[1;33m:\u001b[0m\u001b[1;33m\u001b[0m\u001b[1;33m\u001b[0m\u001b[0m\n\u001b[1;32m--> 432\u001b[1;33m                 \u001b[0mX\u001b[0m\u001b[1;33m,\u001b[0m \u001b[0my\u001b[0m \u001b[1;33m=\u001b[0m \u001b[0mcheck_X_y\u001b[0m\u001b[1;33m(\u001b[0m\u001b[0mX\u001b[0m\u001b[1;33m,\u001b[0m \u001b[0my\u001b[0m\u001b[1;33m,\u001b[0m \u001b[1;33m**\u001b[0m\u001b[0mcheck_params\u001b[0m\u001b[1;33m)\u001b[0m\u001b[1;33m\u001b[0m\u001b[1;33m\u001b[0m\u001b[0m\n\u001b[0m\u001b[0;32m    433\u001b[0m             \u001b[0mout\u001b[0m \u001b[1;33m=\u001b[0m \u001b[0mX\u001b[0m\u001b[1;33m,\u001b[0m \u001b[0my\u001b[0m\u001b[1;33m\u001b[0m\u001b[1;33m\u001b[0m\u001b[0m\n\u001b[0;32m    434\u001b[0m \u001b[1;33m\u001b[0m\u001b[0m\n",
      "\u001b[1;32m~\\anaconda3\\lib\\site-packages\\sklearn\\utils\\validation.py\u001b[0m in \u001b[0;36minner_f\u001b[1;34m(*args, **kwargs)\u001b[0m\n\u001b[0;32m     71\u001b[0m                           FutureWarning)\n\u001b[0;32m     72\u001b[0m         \u001b[0mkwargs\u001b[0m\u001b[1;33m.\u001b[0m\u001b[0mupdate\u001b[0m\u001b[1;33m(\u001b[0m\u001b[1;33m{\u001b[0m\u001b[0mk\u001b[0m\u001b[1;33m:\u001b[0m \u001b[0marg\u001b[0m \u001b[1;32mfor\u001b[0m \u001b[0mk\u001b[0m\u001b[1;33m,\u001b[0m \u001b[0marg\u001b[0m \u001b[1;32min\u001b[0m \u001b[0mzip\u001b[0m\u001b[1;33m(\u001b[0m\u001b[0msig\u001b[0m\u001b[1;33m.\u001b[0m\u001b[0mparameters\u001b[0m\u001b[1;33m,\u001b[0m \u001b[0margs\u001b[0m\u001b[1;33m)\u001b[0m\u001b[1;33m}\u001b[0m\u001b[1;33m)\u001b[0m\u001b[1;33m\u001b[0m\u001b[1;33m\u001b[0m\u001b[0m\n\u001b[1;32m---> 73\u001b[1;33m         \u001b[1;32mreturn\u001b[0m \u001b[0mf\u001b[0m\u001b[1;33m(\u001b[0m\u001b[1;33m**\u001b[0m\u001b[0mkwargs\u001b[0m\u001b[1;33m)\u001b[0m\u001b[1;33m\u001b[0m\u001b[1;33m\u001b[0m\u001b[0m\n\u001b[0m\u001b[0;32m     74\u001b[0m     \u001b[1;32mreturn\u001b[0m \u001b[0minner_f\u001b[0m\u001b[1;33m\u001b[0m\u001b[1;33m\u001b[0m\u001b[0m\n\u001b[0;32m     75\u001b[0m \u001b[1;33m\u001b[0m\u001b[0m\n",
      "\u001b[1;32m~\\anaconda3\\lib\\site-packages\\sklearn\\utils\\validation.py\u001b[0m in \u001b[0;36mcheck_X_y\u001b[1;34m(X, y, accept_sparse, accept_large_sparse, dtype, order, copy, force_all_finite, ensure_2d, allow_nd, multi_output, ensure_min_samples, ensure_min_features, y_numeric, estimator)\u001b[0m\n\u001b[0;32m    794\u001b[0m         \u001b[1;32mraise\u001b[0m \u001b[0mValueError\u001b[0m\u001b[1;33m(\u001b[0m\u001b[1;34m\"y cannot be None\"\u001b[0m\u001b[1;33m)\u001b[0m\u001b[1;33m\u001b[0m\u001b[1;33m\u001b[0m\u001b[0m\n\u001b[0;32m    795\u001b[0m \u001b[1;33m\u001b[0m\u001b[0m\n\u001b[1;32m--> 796\u001b[1;33m     X = check_array(X, accept_sparse=accept_sparse,\n\u001b[0m\u001b[0;32m    797\u001b[0m                     \u001b[0maccept_large_sparse\u001b[0m\u001b[1;33m=\u001b[0m\u001b[0maccept_large_sparse\u001b[0m\u001b[1;33m,\u001b[0m\u001b[1;33m\u001b[0m\u001b[1;33m\u001b[0m\u001b[0m\n\u001b[0;32m    798\u001b[0m                     \u001b[0mdtype\u001b[0m\u001b[1;33m=\u001b[0m\u001b[0mdtype\u001b[0m\u001b[1;33m,\u001b[0m \u001b[0morder\u001b[0m\u001b[1;33m=\u001b[0m\u001b[0morder\u001b[0m\u001b[1;33m,\u001b[0m \u001b[0mcopy\u001b[0m\u001b[1;33m=\u001b[0m\u001b[0mcopy\u001b[0m\u001b[1;33m,\u001b[0m\u001b[1;33m\u001b[0m\u001b[1;33m\u001b[0m\u001b[0m\n",
      "\u001b[1;32m~\\anaconda3\\lib\\site-packages\\sklearn\\utils\\validation.py\u001b[0m in \u001b[0;36minner_f\u001b[1;34m(*args, **kwargs)\u001b[0m\n\u001b[0;32m     71\u001b[0m                           FutureWarning)\n\u001b[0;32m     72\u001b[0m         \u001b[0mkwargs\u001b[0m\u001b[1;33m.\u001b[0m\u001b[0mupdate\u001b[0m\u001b[1;33m(\u001b[0m\u001b[1;33m{\u001b[0m\u001b[0mk\u001b[0m\u001b[1;33m:\u001b[0m \u001b[0marg\u001b[0m \u001b[1;32mfor\u001b[0m \u001b[0mk\u001b[0m\u001b[1;33m,\u001b[0m \u001b[0marg\u001b[0m \u001b[1;32min\u001b[0m \u001b[0mzip\u001b[0m\u001b[1;33m(\u001b[0m\u001b[0msig\u001b[0m\u001b[1;33m.\u001b[0m\u001b[0mparameters\u001b[0m\u001b[1;33m,\u001b[0m \u001b[0margs\u001b[0m\u001b[1;33m)\u001b[0m\u001b[1;33m}\u001b[0m\u001b[1;33m)\u001b[0m\u001b[1;33m\u001b[0m\u001b[1;33m\u001b[0m\u001b[0m\n\u001b[1;32m---> 73\u001b[1;33m         \u001b[1;32mreturn\u001b[0m \u001b[0mf\u001b[0m\u001b[1;33m(\u001b[0m\u001b[1;33m**\u001b[0m\u001b[0mkwargs\u001b[0m\u001b[1;33m)\u001b[0m\u001b[1;33m\u001b[0m\u001b[1;33m\u001b[0m\u001b[0m\n\u001b[0m\u001b[0;32m     74\u001b[0m     \u001b[1;32mreturn\u001b[0m \u001b[0minner_f\u001b[0m\u001b[1;33m\u001b[0m\u001b[1;33m\u001b[0m\u001b[0m\n\u001b[0;32m     75\u001b[0m \u001b[1;33m\u001b[0m\u001b[0m\n",
      "\u001b[1;32m~\\anaconda3\\lib\\site-packages\\sklearn\\utils\\validation.py\u001b[0m in \u001b[0;36mcheck_array\u001b[1;34m(array, accept_sparse, accept_large_sparse, dtype, order, copy, force_all_finite, ensure_2d, allow_nd, ensure_min_samples, ensure_min_features, estimator)\u001b[0m\n\u001b[0;32m    643\u001b[0m \u001b[1;33m\u001b[0m\u001b[0m\n\u001b[0;32m    644\u001b[0m         \u001b[1;32mif\u001b[0m \u001b[0mforce_all_finite\u001b[0m\u001b[1;33m:\u001b[0m\u001b[1;33m\u001b[0m\u001b[1;33m\u001b[0m\u001b[0m\n\u001b[1;32m--> 645\u001b[1;33m             _assert_all_finite(array,\n\u001b[0m\u001b[0;32m    646\u001b[0m                                allow_nan=force_all_finite == 'allow-nan')\n\u001b[0;32m    647\u001b[0m \u001b[1;33m\u001b[0m\u001b[0m\n",
      "\u001b[1;32m~\\anaconda3\\lib\\site-packages\\sklearn\\utils\\validation.py\u001b[0m in \u001b[0;36m_assert_all_finite\u001b[1;34m(X, allow_nan, msg_dtype)\u001b[0m\n\u001b[0;32m     95\u001b[0m                 not allow_nan and not np.isfinite(X).all()):\n\u001b[0;32m     96\u001b[0m             \u001b[0mtype_err\u001b[0m \u001b[1;33m=\u001b[0m \u001b[1;34m'infinity'\u001b[0m \u001b[1;32mif\u001b[0m \u001b[0mallow_nan\u001b[0m \u001b[1;32melse\u001b[0m \u001b[1;34m'NaN, infinity'\u001b[0m\u001b[1;33m\u001b[0m\u001b[1;33m\u001b[0m\u001b[0m\n\u001b[1;32m---> 97\u001b[1;33m             raise ValueError(\n\u001b[0m\u001b[0;32m     98\u001b[0m                     \u001b[0mmsg_err\u001b[0m\u001b[1;33m.\u001b[0m\u001b[0mformat\u001b[0m\u001b[1;33m\u001b[0m\u001b[1;33m\u001b[0m\u001b[0m\n\u001b[0;32m     99\u001b[0m                     (type_err,\n",
      "\u001b[1;31mValueError\u001b[0m: Input contains NaN, infinity or a value too large for dtype('float64')."
     ]
    }
   ],
   "source": [
    "#Lgbm.fit(x_train,y_train)\n",
    "model.fit(x_train,y_train)\n",
    "# model.fit(x_train,y_train)"
   ]
  },
  {
   "cell_type": "code",
   "execution_count": 34,
   "metadata": {
    "id": "q-XHijJ7nCRD",
    "outputId": "4eba132d-7fae-4b0f-f480-2a224343ad18"
   },
   "outputs": [
    {
     "data": {
      "text/plain": [
       "0.9435146443514645"
      ]
     },
     "execution_count": 34,
     "metadata": {},
     "output_type": "execute_result"
    }
   ],
   "source": [
    "Lgbm.score(x_test,y_test)\n"
   ]
  },
  {
   "cell_type": "code",
   "execution_count": 35,
   "metadata": {
    "id": "Vdty2GnQnCRD"
   },
   "outputs": [],
   "source": [
    "df1 = pd.read_csv('test.csv')"
   ]
  },
  {
   "cell_type": "code",
   "execution_count": 36,
   "metadata": {
    "id": "fPkLTy3onCRD"
   },
   "outputs": [
    {
     "data": {
      "text/plain": [
       "Index(['v2a1', 'v18q1', 'rez_esc', 'meaneduc', 'SQBmeaned'], dtype='object')"
      ]
     },
     "execution_count": 36,
     "metadata": {},
     "output_type": "execute_result"
    }
   ],
   "source": [
    "df1.columns[df1.isnull().sum()> 0]"
   ]
  },
  {
   "cell_type": "code",
   "execution_count": 37,
   "metadata": {
    "id": "ckLilO-knCRE"
   },
   "outputs": [],
   "source": [
    "df1.fillna(method='bfill',inplace=True)"
   ]
  },
  {
   "cell_type": "code",
   "execution_count": 38,
   "metadata": {
    "id": "9yeE4yvAnCRE"
   },
   "outputs": [
    {
     "data": {
      "text/plain": [
       "Index(['v2a1', 'v18q1', 'rez_esc'], dtype='object')"
      ]
     },
     "execution_count": 38,
     "metadata": {},
     "output_type": "execute_result"
    }
   ],
   "source": [
    "df1.columns[df1.isnull().sum()> 0]"
   ]
  },
  {
   "cell_type": "code",
   "execution_count": 39,
   "metadata": {},
   "outputs": [],
   "source": [
    "df1.fillna(method='ffill', inplace=True)"
   ]
  },
  {
   "cell_type": "code",
   "execution_count": 40,
   "metadata": {},
   "outputs": [
    {
     "data": {
      "text/plain": [
       "Index([], dtype='object')"
      ]
     },
     "execution_count": 40,
     "metadata": {},
     "output_type": "execute_result"
    }
   ],
   "source": [
    "df1.columns[df1.isnull().sum()> 0]"
   ]
  },
  {
   "cell_type": "code",
   "execution_count": 41,
   "metadata": {},
   "outputs": [
    {
     "name": "stdout",
     "output_type": "stream",
     "text": [
      "{'edjefa', 'idhogar', 'Id', 'edjefe', 'dependency'}\n"
     ]
    }
   ],
   "source": [
    "Numeric_columns=df1.select_dtypes(include=np.number).columns.tolist()\n",
    "categorical_col=set(df1.columns).difference(set(Numeric_columns))\n",
    "\n",
    "print(categorical_col)"
   ]
  },
  {
   "cell_type": "code",
   "execution_count": 42,
   "metadata": {},
   "outputs": [],
   "source": [
    "df1['edjefa'] = df1['edjefa'].replace({'no':0,'yes':1}).astype(float)\n",
    "df1['edjefe'] = df1['edjefe'].replace({'no':0,'yes':1}).astype(float)\n"
   ]
  },
  {
   "cell_type": "code",
   "execution_count": 43,
   "metadata": {},
   "outputs": [
    {
     "name": "stdout",
     "output_type": "stream",
     "text": [
      "{'idhogar', 'Id', 'dependency'}\n"
     ]
    }
   ],
   "source": [
    "Numeric_columns=df1.select_dtypes(include=np.number).columns.tolist()\n",
    "categorical_col=set(df1.columns).difference(set(Numeric_columns))\n",
    "\n",
    "print(categorical_col)"
   ]
  },
  {
   "cell_type": "code",
   "execution_count": 44,
   "metadata": {},
   "outputs": [],
   "source": [
    "df1['dependency'] = np.sqrt(df1['SQBdependency'])"
   ]
  },
  {
   "cell_type": "code",
   "execution_count": 45,
   "metadata": {},
   "outputs": [
    {
     "name": "stdout",
     "output_type": "stream",
     "text": [
      "{'idhogar', 'Id'}\n"
     ]
    }
   ],
   "source": [
    "Numeric_columns=df1.select_dtypes(include=np.number).columns.tolist()\n",
    "categorical_col=set(df1.columns).difference(set(Numeric_columns))\n",
    "\n",
    "print(categorical_col)"
   ]
  },
  {
   "cell_type": "code",
   "execution_count": 46,
   "metadata": {},
   "outputs": [],
   "source": [
    "col_drops = ['Id','idhogar']\n",
    "df1.drop(col_drops,inplace=True,axis=1)"
   ]
  },
  {
   "cell_type": "code",
   "execution_count": 47,
   "metadata": {},
   "outputs": [
    {
     "name": "stdout",
     "output_type": "stream",
     "text": [
      "set()\n"
     ]
    }
   ],
   "source": [
    "Numeric_columns=df1.select_dtypes(include=np.number).columns.tolist()\n",
    "categorical_col=set(df1.columns).difference(set(Numeric_columns))\n",
    "\n",
    "print(categorical_col)"
   ]
  },
  {
   "cell_type": "code",
   "execution_count": 48,
   "metadata": {},
   "outputs": [],
   "source": [
    "test_set = df1"
   ]
  },
  {
   "cell_type": "code",
   "execution_count": 71,
   "metadata": {},
   "outputs": [],
   "source": [
    "df1['rent_per_adult'] = df1['v2a1']/df1['hogar_adul']\n",
    "df1['rent_per_person'] = df1['v2a1']/df1['hhsize']\n",
    "\n",
    "df1['overcrowding_room_and_bedroom'] = (df1['hacdor'] + df1['hacapo'])/2\n",
    "\n",
    "df1['no_appliances'] = df1['refrig'] + df1['computer'] + df1['television']\n",
    "\n",
    " \n",
    "df1['r4h1_percent_in_male'] = df1['r4h1'] / df1['r4h3']\n",
    "df1['r4m1_percent_in_female'] = df1['r4m1'] / df1['r4m3']\n",
    "df1['r4h1_percent_in_total'] = df1['r4h1'] / df1['hhsize']\n",
    "df1['r4m1_percent_in_total'] = df1['r4m1'] / df1['hhsize']\n",
    "df1['r4t1_percent_in_total'] = df1['r4t1'] / df1['hhsize']\n",
    "\n",
    "df1['adult'] = df1['hogar_adul'] - df1['hogar_mayor']\n",
    "df1['dependency_count'] = df1['hogar_nin'] + df1['hogar_mayor']\n",
    "df1['dependency'] = df1['dependency_count'] / df1['adult']\n",
    "df1['child_percent'] = df1['hogar_nin']/df1['hogar_total']\n",
    "df1['elder_percent'] = df1['hogar_mayor']/df1['hogar_total']\n",
    "df1['adult_percent'] = df1['hogar_adul']/df1['hogar_total']\n",
    "\n",
    "df1['rent_per_bedroom'] = df1['v2a1']/df1['bedrooms']\n",
    "df1['adults_per_bedroom'] = df1['adult']/df1['bedrooms']\n",
    "df1['child_per_bedroom'] = df1['hogar_nin']/df1['bedrooms']\n",
    "df1['male_per_bedroom'] = df1['r4h3']/df1['bedrooms']\n",
    "\n",
    "df1['female_per_bedroom'] = df1['r4m3']/df1['bedrooms']\n",
    "df1['bedrooms_per_person_household'] = df1['hhsize']/df1['bedrooms']\n",
    "\n",
    "df1['tablet_per_person_household'] = df1['v18q1']/df1['hhsize']\n",
    "df1['phone_per_person_household'] = df1['qmobilephone']/df1['hhsize']\n",
    "\n",
    "df1['age_12_19'] = df1['hogar_nin'] - df1['r4t1']\n",
    "\n",
    "df1['rent_per_room'] = df1['v2a1']/df1['rooms']\n",
    "df1['bedroom_per_room'] = df1['bedrooms']/df1['rooms']\n",
    "df1['elder_per_room'] = df1['hogar_mayor']/df1['rooms']\n",
    "df1['adults_per_room'] = df1['adult']/df1['rooms']\n",
    "df1['child_per_room'] = df1['hogar_nin']/df1['rooms']\n",
    "df1['male_per_room'] = df1['r4h3']/df1['rooms']\n",
    "df1['female_per_room'] = df1['r4m3']/df1['rooms']\n",
    "df1['room_per_person_household'] = df1['hhsize']/df1['rooms']\n",
    "df1['escolari_age'] = df1['escolari']/df1['age']\n",
    "\n",
    "df1['rez_esc_escolari'] = df1['rez_esc']/df1['escolari']\n",
    "df1['rez_esc_r4t1'] = df1['rez_esc']/df1['r4t1']\n",
    "df1['rez_esc_r4t2'] = df1['rez_esc']/df1['r4t2']\n",
    "df1['rez_esc_r4t3'] = df1['rez_esc']/df1['r4t3']\n",
    "df1['rez_esc_age'] = df1['rez_esc']/df1['age']"
   ]
  },
  {
   "cell_type": "code",
   "execution_count": 72,
   "metadata": {},
   "outputs": [],
   "source": [
    "x1 = test_set"
   ]
  },
  {
   "cell_type": "code",
   "execution_count": 73,
   "metadata": {},
   "outputs": [
    {
     "data": {
      "text/plain": [
       "(23856, 177)"
      ]
     },
     "execution_count": 73,
     "metadata": {},
     "output_type": "execute_result"
    }
   ],
   "source": [
    "x1.shape"
   ]
  },
  {
   "cell_type": "code",
   "execution_count": 74,
   "metadata": {},
   "outputs": [
    {
     "data": {
      "text/plain": [
       "(9557,)"
      ]
     },
     "execution_count": 74,
     "metadata": {},
     "output_type": "execute_result"
    }
   ],
   "source": [
    "y.shape\n"
   ]
  },
  {
   "cell_type": "code",
   "execution_count": 75,
   "metadata": {},
   "outputs": [
    {
     "data": {
      "text/plain": [
       "(23856, 177)"
      ]
     },
     "execution_count": 75,
     "metadata": {},
     "output_type": "execute_result"
    }
   ],
   "source": [
    "x1.shape"
   ]
  },
  {
   "cell_type": "code",
   "execution_count": 76,
   "metadata": {},
   "outputs": [],
   "source": [
    "Lgbm1=LGBMClassifier(n_estimators=200,learning_rate=0.1,random_state=45,num_leaves=500)\n"
   ]
  },
  {
   "cell_type": "code",
   "execution_count": 77,
   "metadata": {},
   "outputs": [],
   "source": [
    "x1_train,x1_test,y1_train,y1_test = train_test_split(x1[:9557],y,random_state=45)"
   ]
  },
  {
   "cell_type": "code",
   "execution_count": 78,
   "metadata": {},
   "outputs": [
    {
     "data": {
      "text/plain": [
       "LGBMClassifier(n_estimators=200, num_leaves=500, random_state=45)"
      ]
     },
     "execution_count": 78,
     "metadata": {},
     "output_type": "execute_result"
    }
   ],
   "source": [
    "Lgbm1.fit(x1_train,y1_train)"
   ]
  },
  {
   "cell_type": "code",
   "execution_count": 79,
   "metadata": {},
   "outputs": [
    {
     "data": {
      "text/plain": [
       "0.7108786610878661"
      ]
     },
     "execution_count": 79,
     "metadata": {},
     "output_type": "execute_result"
    }
   ],
   "source": [
    "Lgbm1.score(x1_test,y1_test)"
   ]
  },
  {
   "cell_type": "raw",
   "metadata": {},
   "source": []
  }
 ],
 "metadata": {
  "colab": {
   "name": "Costa rican household poverty prediction.ipynb",
   "provenance": []
  },
  "kernelspec": {
   "display_name": "Python 3",
   "language": "python",
   "name": "python3"
  },
  "language_info": {
   "codemirror_mode": {
    "name": "ipython",
    "version": 3
   },
   "file_extension": ".py",
   "mimetype": "text/x-python",
   "name": "python",
   "nbconvert_exporter": "python",
   "pygments_lexer": "ipython3",
   "version": "3.8.3"
  }
 },
 "nbformat": 4,
 "nbformat_minor": 1
}
